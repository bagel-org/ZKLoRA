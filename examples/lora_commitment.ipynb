{
 "cells": [
  {
   "cell_type": "code",
   "execution_count": 2,
   "metadata": {},
   "outputs": [
    {
     "name": "stderr",
     "output_type": "stream",
     "text": [
      "/Users/marcosvillagra/code/ZKLoRA/venv/lib/python3.9/site-packages/urllib3/__init__.py:35: NotOpenSSLWarning: urllib3 v2 only supports OpenSSL 1.1.1+, currently the 'ssl' module is compiled with 'LibreSSL 2.8.3'. See: https://github.com/urllib3/urllib3/issues/3020\n",
      "  warnings.warn(\n",
      "/Users/marcosvillagra/code/ZKLoRA/venv/lib/python3.9/site-packages/tqdm/auto.py:21: TqdmWarning: IProgress not found. Please update jupyter and ipywidgets. See https://ipywidgets.readthedocs.io/en/stable/user_install.html\n",
      "  from .autonotebook import tqdm as notebook_tqdm\n"
     ]
    }
   ],
   "source": [
    "import sys\n",
    "sys.path.append('..')\n",
    "\n",
    "from zklora import export_lora_submodules, generate_proofs, batch_verify_proofs, get_merkle_root\n",
    "\n",
    "from transformers import AutoModelForCausalLM, AutoTokenizer\n",
    "from peft import PeftModel"
   ]
  },
  {
   "cell_type": "code",
   "execution_count": 3,
   "metadata": {},
   "outputs": [
    {
     "name": "stderr",
     "output_type": "stream",
     "text": [
      "/Users/marcosvillagra/code/ZKLoRA/venv/lib/python3.9/site-packages/peft/tuners/lora/layer.py:1264: UserWarning: fan_in_fan_out is set to False but the target module is `Conv1D`. Setting fan_in_fan_out to True.\n",
      "  warnings.warn(\n",
      "/Users/marcosvillagra/code/ZKLoRA/venv/lib/python3.9/site-packages/torch/onnx/utils.py:491: FutureWarning: Setting `training` to something other than default is deprecated. The option will be removed in a future release. Please set the training mode before exporting the model.\n",
      "  warnings.warn(\n",
      "/Users/marcosvillagra/code/ZKLoRA/venv/lib/python3.9/site-packages/torch/onnx/utils.py:86: UserWarning: You are exporting the model in training mode with onnx opset version 11. Opset versions lower than opset 12 will not be able to export nodes such as Dropout and BatchNorm correctly.\n",
      "  warnings.warn(\n"
     ]
    }
   ],
   "source": [
    "base_model_name = \"distilgpt2\"\n",
    "lora_model_name = \"q1e123/peft-starcoder-lora-a100\"\n",
    "base_model = AutoModelForCausalLM.from_pretrained(base_model_name)\n",
    "lora_model = PeftModel.from_pretrained(base_model, lora_model_name)\n",
    "tokenizer = AutoTokenizer.from_pretrained(base_model_name)\n",
    "lora_model.eval()\n",
    "\n",
    "texts = [\"Hello from LoRA\", \"And another test\", \"One more line...\"]\n",
    "\n",
    "export_lora_submodules(\n",
    "    model=lora_model,\n",
    "    tokenizer=tokenizer,\n",
    "    input_texts=texts,\n",
    "    submodule_key=\"attn.c_attn\",\n",
    ")"
   ]
  },
  {
   "cell_type": "code",
   "execution_count": 5,
   "metadata": {},
   "outputs": [
    {
     "name": "stdout",
     "output_type": "stream",
     "text": [
      "Merkle root for base_model_model_transformer_h_3_attn_c_attn.json: 0xf86ca87f2efb14b2d78b9d0906154c23d9ee3c541f09d66009afa70cca03bbc1\n",
      "Merkle root for base_model_model_transformer_h_2_attn_c_attn.json: 0xcd552fdea1ea1ff23544266ae091b98c6ee3fdda004d46396a197d10d788776c\n",
      "Merkle root for base_model_model_transformer_h_1_attn_c_attn.json: 0x1c33a1b9bd68e40acd4445c2c1a4d06a3fa7e8c431cd804520195a79a71f9dbf\n",
      "Merkle root for base_model_model_transformer_h_5_attn_c_attn.json: 0x5d04294b28890929cbdf5e7147a964c05c3f01c8eca203b0d6ac5dfca6b6ee04\n",
      "Merkle root for base_model_model_transformer_h_0_attn_c_attn.json: 0x7680e5c16d8022f23120d4fb7e1748d2cd8029d62085ed30001ad0860f36e0d0\n",
      "Merkle root for base_model_model_transformer_h_4_attn_c_attn.json: 0x54b880fa9ae593f632efe48d2d041a94573ff1da12efb6f0dfbfe552d17851ff\n"
     ]
    }
   ],
   "source": [
    "import os\n",
    "\n",
    "activation_files = os.listdir(\"intermediate_activations\")\n",
    "merkle_roots = {}\n",
    "\n",
    "for file in activation_files:\n",
    "    if file.endswith(\".json\"):\n",
    "        file_path = os.path.join(\"intermediate_activations\", file)\n",
    "        merkle_root = get_merkle_root(file_path)\n",
    "        merkle_roots[file] = merkle_root\n",
    "        print(f\"Merkle root for {file}: {merkle_root}\")\n"
   ]
  },
  {
   "cell_type": "code",
   "execution_count": null,
   "metadata": {},
   "outputs": [],
   "source": []
  }
 ],
 "metadata": {
  "kernelspec": {
   "display_name": "Python 3",
   "language": "python",
   "name": "python3"
  },
  "language_info": {
   "codemirror_mode": {
    "name": "ipython",
    "version": 3
   },
   "file_extension": ".py",
   "mimetype": "text/x-python",
   "name": "python",
   "nbconvert_exporter": "python",
   "pygments_lexer": "ipython3",
   "version": "3.9.6"
  }
 },
 "nbformat": 4,
 "nbformat_minor": 2
}
